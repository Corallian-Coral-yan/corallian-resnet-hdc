{
 "cells": [
  {
   "cell_type": "code",
   "execution_count": 1,
   "metadata": {},
   "outputs": [],
   "source": [
    "import pandas as pd"
   ]
  },
  {
   "cell_type": "code",
   "execution_count": 2,
   "metadata": {},
   "outputs": [],
   "source": [
    "ANNOTATIONS_FILE = r\"D:\\CROPPED-CORALS\\index.csv\"\n",
    "IMG_DIR = r\"D:\\CROPPED-CORALS\""
   ]
  },
  {
   "cell_type": "code",
   "execution_count": 3,
   "metadata": {},
   "outputs": [
    {
     "data": {
      "text/plain": [
       "annotation\n",
       "AA       1244\n",
       "S         121\n",
       "R         100\n",
       "POC        79\n",
       "SP         53\n",
       "PORM       51\n",
       "TWB        22\n",
       "MILL       16\n",
       "FVI        16\n",
       "ACT        15\n",
       "CA         14\n",
       "ISO         8\n",
       "ACC         8\n",
       "FAV         7\n",
       "OT          6\n",
       "CE          6\n",
       "SC          5\n",
       "PLAT        4\n",
       "PORB        3\n",
       "ACB         3\n",
       "SYM         2\n",
       "GONIA       2\n",
       "LEPA        2\n",
       "ACD         2\n",
       "CM          2\n",
       "MONTE       1\n",
       "PAV         1\n",
       "PORE        1\n",
       "MONTB       1\n",
       "AST         1\n",
       "MA          1\n",
       "STY         1\n",
       "DCA         1\n",
       "ZO          1\n",
       "Name: count, dtype: int64"
      ]
     },
     "execution_count": 3,
     "metadata": {},
     "output_type": "execute_result"
    }
   ],
   "source": [
    "df = pd.read_csv(ANNOTATIONS_FILE)\n",
    "df[\"annotation\"].value_counts()"
   ]
  },
  {
   "cell_type": "code",
   "execution_count": 4,
   "metadata": {},
   "outputs": [
    {
     "data": {
      "text/plain": [
       "34"
      ]
     },
     "execution_count": 4,
     "metadata": {},
     "output_type": "execute_result"
    }
   ],
   "source": [
    "len(df['annotation'].unique())"
   ]
  },
  {
   "cell_type": "code",
   "execution_count": 22,
   "metadata": {},
   "outputs": [
    {
     "data": {
      "text/plain": [
       "size\n",
       "500x500    1698\n",
       "500x397       3\n",
       "500x494       2\n",
       "500x327       2\n",
       "500x376       2\n",
       "           ... \n",
       "500x296       1\n",
       "500x361       1\n",
       "500x395       1\n",
       "500x406       1\n",
       "500x298       1\n",
       "Name: count, Length: 81, dtype: int64"
      ]
     },
     "execution_count": 22,
     "metadata": {},
     "output_type": "execute_result"
    }
   ],
   "source": [
    "df[\"size\"] = df[\"width\"].astype(str) + \"x\" + df[\"height\"].astype(str)\n",
    "df[\"size\"].value_counts()"
   ]
  }
 ],
 "metadata": {
  "kernelspec": {
   "display_name": "Python 3",
   "language": "python",
   "name": "python3"
  },
  "language_info": {
   "codemirror_mode": {
    "name": "ipython",
    "version": 3
   },
   "file_extension": ".py",
   "mimetype": "text/x-python",
   "name": "python",
   "nbconvert_exporter": "python",
   "pygments_lexer": "ipython3",
   "version": "3.12.0"
  }
 },
 "nbformat": 4,
 "nbformat_minor": 2
}
